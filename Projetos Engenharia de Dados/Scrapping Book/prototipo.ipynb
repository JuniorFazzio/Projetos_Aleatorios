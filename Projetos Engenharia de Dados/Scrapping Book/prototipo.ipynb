{
 "cells": [
  {
   "cell_type": "markdown",
   "metadata": {},
   "source": [
    "### Aqui vamos desenvolver um protótipo\n",
    "\n",
    "---"
   ]
  },
  {
   "cell_type": "code",
   "execution_count": 3,
   "metadata": {},
   "outputs": [],
   "source": [
    "#!pip install selenium\n",
    "from selenium import webdriver\n",
    "import time"
   ]
  },
  {
   "cell_type": "code",
   "execution_count": 13,
   "metadata": {},
   "outputs": [
    {
     "name": "stderr",
     "output_type": "stream",
     "text": [
      "<ipython-input-13-3f7b62acfe2c>:1: DeprecationWarning: executable_path has been deprecated, please pass in a Service object\n",
      "  driver = webdriver.Edge(r'C:\\\\Users\\\\ademi\\\\OneDrive\\\\Documentos\\\\Estudos Python\\\\Projetos Aleatórios\\\\Projetos Engenharia de Dados\\\\Scrapping Book\\\\msedgedriver.exe')\n",
      "<ipython-input-13-3f7b62acfe2c>:3: DeprecationWarning: find_elements_by_* commands are deprecated. Please use find_elements() instead\n",
      "  link = driver.find_elements_by_xpath('//ol[@class=\"row\"]//li [20]//a')\n"
     ]
    },
    {
     "name": "stdout",
     "output_type": "stream",
     "text": [
      "2\n"
     ]
    },
    {
     "name": "stderr",
     "output_type": "stream",
     "text": [
      "<ipython-input-13-3f7b62acfe2c>:7: DeprecationWarning: find_elements_by_* commands are deprecated. Please use find_elements() instead\n",
      "  nome = driver.find_elements_by_xpath('//div[@class=\"col-sm-6 product_main\"]//h1')[0].text\n",
      "<ipython-input-13-3f7b62acfe2c>:8: DeprecationWarning: find_elements_by_* commands are deprecated. Please use find_elements() instead\n",
      "  secao = driver.find_elements_by_xpath('//ul[@class=\"breadcrumb\"]//li [3]')[0].text\n",
      "<ipython-input-13-3f7b62acfe2c>:9: DeprecationWarning: find_elements_by_* commands are deprecated. Please use find_elements() instead\n",
      "  preco = driver.find_elements_by_xpath('//div[@class=\"col-sm-6 product_main\"]//p[@class=\"price_color\"]')[0].text\n",
      "<ipython-input-13-3f7b62acfe2c>:10: DeprecationWarning: find_elements_by_* commands are deprecated. Please use find_elements() instead\n",
      "  avalicao = driver.find_elements_by_xpath('//div[@class=\"col-sm-6 product_main\"]//p [3]')[0].get_attribute('class')\n"
     ]
    },
    {
     "name": "stdout",
     "output_type": "stream",
     "text": [
      "O nome do livro é 1,000 Places to See Before You Die da seção Travel com preço de £26.08 com avalicao star-rating Five\n"
     ]
    },
    {
     "name": "stderr",
     "output_type": "stream",
     "text": [
      "<ipython-input-13-3f7b62acfe2c>:13: DeprecationWarning: find_elements_by_* commands are deprecated. Please use find_elements() instead\n",
      "  next = driver.find_elements_by_xpath('//li[@class=\"next\"]//a')\n"
     ]
    },
    {
     "data": {
      "text/plain": [
       "0"
      ]
     },
     "execution_count": 13,
     "metadata": {},
     "output_type": "execute_result"
    }
   ],
   "source": [
    "driver = webdriver.Edge(r'C:\\\\Users\\\\ademi\\\\OneDrive\\\\Documentos\\\\Estudos Python\\\\Projetos Aleatórios\\\\Projetos Engenharia de Dados\\\\Scrapping Book\\\\msedgedriver.exe')\n",
    "driver.get('http://books.toscrape.com/catalogue/page-50.html')\n",
    "link = driver.find_elements_by_xpath('//ol[@class=\"row\"]//li [20]//a')\n",
    "tamanho = len(link)\n",
    "print(tamanho)\n",
    "link[0].click()\n",
    "nome = driver.find_elements_by_xpath('//div[@class=\"col-sm-6 product_main\"]//h1')[0].text\n",
    "secao = driver.find_elements_by_xpath('//ul[@class=\"breadcrumb\"]//li [3]')[0].text\n",
    "preco = driver.find_elements_by_xpath('//div[@class=\"col-sm-6 product_main\"]//p[@class=\"price_color\"]')[0].text\n",
    "avalicao = driver.find_elements_by_xpath('//div[@class=\"col-sm-6 product_main\"]//p [3]')[0].get_attribute('class')\n",
    "print(f'O nome do livro é {nome} da seção {secao} com preço de {preco} com avalicao {avalicao}')\n",
    "driver.execute_script(\"window.history.go(-1)\")\n",
    "next = driver.find_elements_by_xpath('//li[@class=\"next\"]//a')\n",
    "len(next)"
   ]
  },
  {
   "cell_type": "code",
   "execution_count": 3,
   "metadata": {},
   "outputs": [
    {
     "name": "stderr",
     "output_type": "stream",
     "text": [
      "<ipython-input-3-cf0a9ef6d242>:1: DeprecationWarning: find_elements_by_* commands are deprecated. Please use find_elements() instead\n",
      "  nome = driver.find_elements_by_xpath('//ol[@class=\"row\"]//li [1]//h3')\n"
     ]
    },
    {
     "ename": "WebDriverException",
     "evalue": "Message: chrome not reachable\n  (Session info: MicrosoftEdge=96.0.1054.62)\nStacktrace:\nBacktrace:\n\tMicrosoft::Applications::Events::ILogConfiguration::ILogConfiguration [0x00007FF68613CCE2+56946]\n\tMicrosoft::Applications::Events::EventProperty::to_string [0x00007FF685D6A437+949511]\n\tMicrosoft::Applications::Events::EventProperty::to_string [0x00007FF685D5AF5B+886827]\n\tMicrosoft::Applications::Events::EventProperty::to_string [0x00007FF685D5B6A5+888693]\n\tMicrosoft::Applications::Events::EventProperty::to_string [0x00007FF685D5D239+895753]\n\tMicrosoft::Applications::Events::EventProperty::to_string [0x00007FF685D5615A+866858]\n\tMicrosoft::Applications::Events::EventProperty::to_string [0x00007FF685DD532A+1387514]\n\tMicrosoft::Applications::Events::EventProperty::to_string [0x00007FF685DC13BF+1305743]\n\tMicrosoft::Applications::Events::EventProperty::to_string [0x00007FF685D96AA9+1131385]\n\tMicrosoft::Applications::Events::EventProperty::to_string [0x00007FF685D97B8F+1135711]\n\tMicrosoft::Applications::Events::EventProperty::to_string [0x00007FF685E2C485+1744213]\n\tMicrosoft::Applications::Events::EventProperty::to_string [0x00007FF685E2A911+1737185]\n\tMicrosoft::Applications::Events::EventProperty::EventProperty [0x00007FF68600B6B9+2521]\n\tMicrosoft::Applications::Events::EventProperty::to_string [0x00007FF685E020AE+1571198]\n\tMicrosoft::Applications::Events::ILogConfiguration::ILogConfiguration [0x00007FF6861358EC+27260]\n\tMicrosoft::Applications::Events::ILogConfiguration::ILogConfiguration [0x00007FF686135264+25588]\n\tMicrosoft::Applications::Events::ILogConfiguration::ILogConfiguration [0x00007FF6861350B6+25158]\n\tMicrosoft::Applications::Events::EventProperties::GetName [0x00007FF68609047C+211724]\n\tBaseThreadInitThunk [0x00007FFAF56E7034+20]\n\tRtlUserThreadStart [0x00007FFAF71A2651+33]\n",
     "output_type": "error",
     "traceback": [
      "\u001b[1;31m---------------------------------------------------------------------------\u001b[0m",
      "\u001b[1;31mWebDriverException\u001b[0m                        Traceback (most recent call last)",
      "\u001b[1;32m<ipython-input-3-cf0a9ef6d242>\u001b[0m in \u001b[0;36m<module>\u001b[1;34m\u001b[0m\n\u001b[1;32m----> 1\u001b[1;33m \u001b[0mnome\u001b[0m \u001b[1;33m=\u001b[0m \u001b[0mdriver\u001b[0m\u001b[1;33m.\u001b[0m\u001b[0mfind_elements_by_xpath\u001b[0m\u001b[1;33m(\u001b[0m\u001b[1;34m'//ol[@class=\"row\"]//li [1]//h3'\u001b[0m\u001b[1;33m)\u001b[0m\u001b[1;33m\u001b[0m\u001b[1;33m\u001b[0m\u001b[0m\n\u001b[0m\u001b[0;32m      2\u001b[0m \u001b[0mnome\u001b[0m\u001b[1;33m\u001b[0m\u001b[1;33m\u001b[0m\u001b[0m\n",
      "\u001b[1;32m~\\anaconda3\\lib\\site-packages\\selenium\\webdriver\\remote\\webdriver.py\u001b[0m in \u001b[0;36mfind_elements_by_xpath\u001b[1;34m(self, xpath)\u001b[0m\n\u001b[0;32m    541\u001b[0m             \u001b[0mstacklevel\u001b[0m\u001b[1;33m=\u001b[0m\u001b[1;36m2\u001b[0m\u001b[1;33m,\u001b[0m\u001b[1;33m\u001b[0m\u001b[1;33m\u001b[0m\u001b[0m\n\u001b[0;32m    542\u001b[0m         )\n\u001b[1;32m--> 543\u001b[1;33m         \u001b[1;32mreturn\u001b[0m \u001b[0mself\u001b[0m\u001b[1;33m.\u001b[0m\u001b[0mfind_elements\u001b[0m\u001b[1;33m(\u001b[0m\u001b[0mby\u001b[0m\u001b[1;33m=\u001b[0m\u001b[0mBy\u001b[0m\u001b[1;33m.\u001b[0m\u001b[0mXPATH\u001b[0m\u001b[1;33m,\u001b[0m \u001b[0mvalue\u001b[0m\u001b[1;33m=\u001b[0m\u001b[0mxpath\u001b[0m\u001b[1;33m)\u001b[0m\u001b[1;33m\u001b[0m\u001b[1;33m\u001b[0m\u001b[0m\n\u001b[0m\u001b[0;32m    544\u001b[0m \u001b[1;33m\u001b[0m\u001b[0m\n\u001b[0;32m    545\u001b[0m     \u001b[1;32mdef\u001b[0m \u001b[0mfind_element_by_link_text\u001b[0m\u001b[1;33m(\u001b[0m\u001b[0mself\u001b[0m\u001b[1;33m,\u001b[0m \u001b[0mlink_text\u001b[0m\u001b[1;33m)\u001b[0m \u001b[1;33m->\u001b[0m \u001b[0mWebElement\u001b[0m\u001b[1;33m:\u001b[0m\u001b[1;33m\u001b[0m\u001b[1;33m\u001b[0m\u001b[0m\n",
      "\u001b[1;32m~\\anaconda3\\lib\\site-packages\\selenium\\webdriver\\remote\\webdriver.py\u001b[0m in \u001b[0;36mfind_elements\u001b[1;34m(self, by, value)\u001b[0m\n\u001b[0;32m   1277\u001b[0m         \u001b[1;31m# Return empty list if driver returns null\u001b[0m\u001b[1;33m\u001b[0m\u001b[1;33m\u001b[0m\u001b[1;33m\u001b[0m\u001b[0m\n\u001b[0;32m   1278\u001b[0m         \u001b[1;31m# See https://github.com/SeleniumHQ/selenium/issues/4555\u001b[0m\u001b[1;33m\u001b[0m\u001b[1;33m\u001b[0m\u001b[1;33m\u001b[0m\u001b[0m\n\u001b[1;32m-> 1279\u001b[1;33m         return self.execute(Command.FIND_ELEMENTS, {\n\u001b[0m\u001b[0;32m   1280\u001b[0m             \u001b[1;34m'using'\u001b[0m\u001b[1;33m:\u001b[0m \u001b[0mby\u001b[0m\u001b[1;33m,\u001b[0m\u001b[1;33m\u001b[0m\u001b[1;33m\u001b[0m\u001b[0m\n\u001b[0;32m   1281\u001b[0m             'value': value})['value'] or []\n",
      "\u001b[1;32m~\\anaconda3\\lib\\site-packages\\selenium\\webdriver\\remote\\webdriver.py\u001b[0m in \u001b[0;36mexecute\u001b[1;34m(self, driver_command, params)\u001b[0m\n\u001b[0;32m    422\u001b[0m         \u001b[0mresponse\u001b[0m \u001b[1;33m=\u001b[0m \u001b[0mself\u001b[0m\u001b[1;33m.\u001b[0m\u001b[0mcommand_executor\u001b[0m\u001b[1;33m.\u001b[0m\u001b[0mexecute\u001b[0m\u001b[1;33m(\u001b[0m\u001b[0mdriver_command\u001b[0m\u001b[1;33m,\u001b[0m \u001b[0mparams\u001b[0m\u001b[1;33m)\u001b[0m\u001b[1;33m\u001b[0m\u001b[1;33m\u001b[0m\u001b[0m\n\u001b[0;32m    423\u001b[0m         \u001b[1;32mif\u001b[0m \u001b[0mresponse\u001b[0m\u001b[1;33m:\u001b[0m\u001b[1;33m\u001b[0m\u001b[1;33m\u001b[0m\u001b[0m\n\u001b[1;32m--> 424\u001b[1;33m             \u001b[0mself\u001b[0m\u001b[1;33m.\u001b[0m\u001b[0merror_handler\u001b[0m\u001b[1;33m.\u001b[0m\u001b[0mcheck_response\u001b[0m\u001b[1;33m(\u001b[0m\u001b[0mresponse\u001b[0m\u001b[1;33m)\u001b[0m\u001b[1;33m\u001b[0m\u001b[1;33m\u001b[0m\u001b[0m\n\u001b[0m\u001b[0;32m    425\u001b[0m             response['value'] = self._unwrap_value(\n\u001b[0;32m    426\u001b[0m                 response.get('value', None))\n",
      "\u001b[1;32m~\\anaconda3\\lib\\site-packages\\selenium\\webdriver\\remote\\errorhandler.py\u001b[0m in \u001b[0;36mcheck_response\u001b[1;34m(self, response)\u001b[0m\n\u001b[0;32m    245\u001b[0m                 \u001b[0malert_text\u001b[0m \u001b[1;33m=\u001b[0m \u001b[0mvalue\u001b[0m\u001b[1;33m[\u001b[0m\u001b[1;34m'alert'\u001b[0m\u001b[1;33m]\u001b[0m\u001b[1;33m.\u001b[0m\u001b[0mget\u001b[0m\u001b[1;33m(\u001b[0m\u001b[1;34m'text'\u001b[0m\u001b[1;33m)\u001b[0m\u001b[1;33m\u001b[0m\u001b[1;33m\u001b[0m\u001b[0m\n\u001b[0;32m    246\u001b[0m             \u001b[1;32mraise\u001b[0m \u001b[0mexception_class\u001b[0m\u001b[1;33m(\u001b[0m\u001b[0mmessage\u001b[0m\u001b[1;33m,\u001b[0m \u001b[0mscreen\u001b[0m\u001b[1;33m,\u001b[0m \u001b[0mstacktrace\u001b[0m\u001b[1;33m,\u001b[0m \u001b[0malert_text\u001b[0m\u001b[1;33m)\u001b[0m  \u001b[1;31m# type: ignore[call-arg]  # mypy is not smart enough here\u001b[0m\u001b[1;33m\u001b[0m\u001b[1;33m\u001b[0m\u001b[0m\n\u001b[1;32m--> 247\u001b[1;33m         \u001b[1;32mraise\u001b[0m \u001b[0mexception_class\u001b[0m\u001b[1;33m(\u001b[0m\u001b[0mmessage\u001b[0m\u001b[1;33m,\u001b[0m \u001b[0mscreen\u001b[0m\u001b[1;33m,\u001b[0m \u001b[0mstacktrace\u001b[0m\u001b[1;33m)\u001b[0m\u001b[1;33m\u001b[0m\u001b[1;33m\u001b[0m\u001b[0m\n\u001b[0m\u001b[0;32m    248\u001b[0m \u001b[1;33m\u001b[0m\u001b[0m\n\u001b[0;32m    249\u001b[0m     \u001b[1;32mdef\u001b[0m \u001b[0m_value_or_default\u001b[0m\u001b[1;33m(\u001b[0m\u001b[0mself\u001b[0m\u001b[1;33m,\u001b[0m \u001b[0mobj\u001b[0m\u001b[1;33m:\u001b[0m \u001b[0mMapping\u001b[0m\u001b[1;33m[\u001b[0m\u001b[0m_KT\u001b[0m\u001b[1;33m,\u001b[0m \u001b[0m_VT\u001b[0m\u001b[1;33m]\u001b[0m\u001b[1;33m,\u001b[0m \u001b[0mkey\u001b[0m\u001b[1;33m:\u001b[0m \u001b[0m_KT\u001b[0m\u001b[1;33m,\u001b[0m \u001b[0mdefault\u001b[0m\u001b[1;33m:\u001b[0m \u001b[0m_VT\u001b[0m\u001b[1;33m)\u001b[0m \u001b[1;33m->\u001b[0m \u001b[0m_VT\u001b[0m\u001b[1;33m:\u001b[0m\u001b[1;33m\u001b[0m\u001b[1;33m\u001b[0m\u001b[0m\n",
      "\u001b[1;31mWebDriverException\u001b[0m: Message: chrome not reachable\n  (Session info: MicrosoftEdge=96.0.1054.62)\nStacktrace:\nBacktrace:\n\tMicrosoft::Applications::Events::ILogConfiguration::ILogConfiguration [0x00007FF68613CCE2+56946]\n\tMicrosoft::Applications::Events::EventProperty::to_string [0x00007FF685D6A437+949511]\n\tMicrosoft::Applications::Events::EventProperty::to_string [0x00007FF685D5AF5B+886827]\n\tMicrosoft::Applications::Events::EventProperty::to_string [0x00007FF685D5B6A5+888693]\n\tMicrosoft::Applications::Events::EventProperty::to_string [0x00007FF685D5D239+895753]\n\tMicrosoft::Applications::Events::EventProperty::to_string [0x00007FF685D5615A+866858]\n\tMicrosoft::Applications::Events::EventProperty::to_string [0x00007FF685DD532A+1387514]\n\tMicrosoft::Applications::Events::EventProperty::to_string [0x00007FF685DC13BF+1305743]\n\tMicrosoft::Applications::Events::EventProperty::to_string [0x00007FF685D96AA9+1131385]\n\tMicrosoft::Applications::Events::EventProperty::to_string [0x00007FF685D97B8F+1135711]\n\tMicrosoft::Applications::Events::EventProperty::to_string [0x00007FF685E2C485+1744213]\n\tMicrosoft::Applications::Events::EventProperty::to_string [0x00007FF685E2A911+1737185]\n\tMicrosoft::Applications::Events::EventProperty::EventProperty [0x00007FF68600B6B9+2521]\n\tMicrosoft::Applications::Events::EventProperty::to_string [0x00007FF685E020AE+1571198]\n\tMicrosoft::Applications::Events::ILogConfiguration::ILogConfiguration [0x00007FF6861358EC+27260]\n\tMicrosoft::Applications::Events::ILogConfiguration::ILogConfiguration [0x00007FF686135264+25588]\n\tMicrosoft::Applications::Events::ILogConfiguration::ILogConfiguration [0x00007FF6861350B6+25158]\n\tMicrosoft::Applications::Events::EventProperties::GetName [0x00007FF68609047C+211724]\n\tBaseThreadInitThunk [0x00007FFAF56E7034+20]\n\tRtlUserThreadStart [0x00007FFAF71A2651+33]\n"
     ]
    }
   ],
   "source": []
  },
  {
   "cell_type": "code",
   "execution_count": null,
   "metadata": {},
   "outputs": [],
   "source": []
  }
 ],
 "metadata": {
  "interpreter": {
   "hash": "c9e81ef4a6344f08eaff0f9c960fd2e0757cf0ae0b7e015ac27f806b8b20725e"
  },
  "kernelspec": {
   "display_name": "Python 3.8.8 64-bit ('base': conda)",
   "language": "python",
   "name": "python3"
  },
  "language_info": {
   "codemirror_mode": {
    "name": "ipython",
    "version": 3
   },
   "file_extension": ".py",
   "mimetype": "text/x-python",
   "name": "python",
   "nbconvert_exporter": "python",
   "pygments_lexer": "ipython3",
   "version": "3.8.8"
  },
  "orig_nbformat": 4
 },
 "nbformat": 4,
 "nbformat_minor": 2
}
